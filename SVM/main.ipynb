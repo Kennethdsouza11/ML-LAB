{
 "cells": [
  {
   "cell_type": "markdown",
   "metadata": {},
   "source": [
    "Initializing the learning rate, regularization parameter and number of iterations\n"
   ]
  },
  {
   "cell_type": "code",
   "execution_count": 1,
   "metadata": {},
   "outputs": [],
   "source": [
    "def __init__(self, learning_rate = 0.001, lambda_param = 0.01, n_iters = 1000):\n",
    "    self.lr = learning_rate,\n",
    "    self.lambda_param = lambda_param,\n",
    "    self.n_iters = n_iters,\n",
    "    self.w = None,\n",
    "    self.b = None"
   ]
  },
  {
   "cell_type": "markdown",
   "metadata": {},
   "source": []
  },
  {
   "cell_type": "markdown",
   "metadata": {},
   "source": [
    "Initialize the SVM Object with the given hyperparameters"
   ]
  },
  {
   "cell_type": "code",
   "execution_count": 6,
   "metadata": {},
   "outputs": [],
   "source": [
    "import numpy as np\n",
    "def fit(self, X,y):\n",
    "    n_samples, n_features = X.shape\n",
    "    self.w = np.zeros(n_features)\n",
    "    self.b = 0\n",
    "    for i in range(self.n_iters):\n",
    "        for idx, x_i in enumerate(X):\n",
    "            condition = y[idx] - (np.dot(x_i, y[idx]) >= 1)\n",
    "            if condition:\n",
    "                self.w -= self.lr * (2 * self.lambda_param * self.w)\n",
    "            else:\n",
    "                self.w -= self.lr * (2 * self.lambda_param * self.w - np.dot(x_i, y[idx]))\n",
    "                self.b -= self.lr * y[idx]"
   ]
  },
  {
   "cell_type": "markdown",
   "metadata": {},
   "source": [
    "Defined a predict function"
   ]
  },
  {
   "cell_type": "code",
   "execution_count": 7,
   "metadata": {},
   "outputs": [],
   "source": [
    "def predict(self, X):\n",
    "    approx = np.dot(X, self.w) - self.b\n",
    "    return np.sign(approx)"
   ]
  },
  {
   "cell_type": "markdown",
   "metadata": {},
   "source": []
  }
 ],
 "metadata": {
  "kernelspec": {
   "display_name": ".venv",
   "language": "python",
   "name": "python3"
  },
  "language_info": {
   "codemirror_mode": {
    "name": "ipython",
    "version": 3
   },
   "file_extension": ".py",
   "mimetype": "text/x-python",
   "name": "python",
   "nbconvert_exporter": "python",
   "pygments_lexer": "ipython3",
   "version": "3.11.7"
  }
 },
 "nbformat": 4,
 "nbformat_minor": 2
}
